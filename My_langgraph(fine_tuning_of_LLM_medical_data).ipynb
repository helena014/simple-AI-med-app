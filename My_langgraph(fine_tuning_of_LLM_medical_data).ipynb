{
  "nbformat": 4,
  "nbformat_minor": 0,
  "metadata": {
    "colab": {
      "provenance": []
    },
    "kernelspec": {
      "name": "python3",
      "display_name": "Python 3"
    },
    "language_info": {
      "name": "python"
    }
  },
  "cells": [
    {
      "cell_type": "markdown",
      "source": [
        "# STEP 0: Install dependencies"
      ],
      "metadata": {
        "id": "K3yWWtQ8cC4i"
      }
    },
    {
      "cell_type": "code",
      "source": [
        "# installing Google's AI (Gemini), LangGraph, and LangChain – tools that help talk to AI models.\n",
        "\n",
        "#like installing WhatsApp before you can chat.\n",
        "#google-generativeai==0.8.5    This is Google's official Python SDK for using Gemini AI models.  It allows you to generate text, chat, and use multimodal capabilities.\n",
        "#google-ai-generativelanguage==0.6.15   This is a lower-level client for the Generative Language API (used under the hood by google-generativeai).  Handles actual API interactions with Gemini models."
      ],
      "metadata": {
        "id": "h6pFNR-FTHss"
      },
      "execution_count": 15,
      "outputs": []
    },
    {
      "cell_type": "code",
      "source": [
        "!pip install -qU google-generativeai==0.8.5 google-ai-generativelanguage==0.6.15 langgraph langchain langchain-google-genai openai\n"
      ],
      "metadata": {
        "colab": {
          "base_uri": "https://localhost:8080/"
        },
        "id": "xARIUXNXA1UJ",
        "outputId": "7239f00c-5694-4222-944c-d2a8729ae181"
      },
      "execution_count": 1,
      "outputs": [
        {
          "output_type": "stream",
          "name": "stdout",
          "text": [
            "\u001b[2K     \u001b[90m━━━━━━━━━━━━━━━━━━━━━━━━━━━━━━━━━━━━━━━━\u001b[0m \u001b[32m43.7/43.7 kB\u001b[0m \u001b[31m2.7 MB/s\u001b[0m eta \u001b[36m0:00:00\u001b[0m\n",
            "\u001b[2K   \u001b[90m━━━━━━━━━━━━━━━━━━━━━━━━━━━━━━━━━━━━━━━━\u001b[0m \u001b[32m143.8/143.8 kB\u001b[0m \u001b[31m6.0 MB/s\u001b[0m eta \u001b[36m0:00:00\u001b[0m\n",
            "\u001b[2K   \u001b[90m━━━━━━━━━━━━━━━━━━━━━━━━━━━━━━━━━━━━━━━━\u001b[0m \u001b[32m42.0/42.0 kB\u001b[0m \u001b[31m3.7 MB/s\u001b[0m eta \u001b[36m0:00:00\u001b[0m\n",
            "\u001b[2K   \u001b[90m━━━━━━━━━━━━━━━━━━━━━━━━━━━━━━━━━━━━━━━━\u001b[0m \u001b[32m757.1/757.1 kB\u001b[0m \u001b[31m15.8 MB/s\u001b[0m eta \u001b[36m0:00:00\u001b[0m\n",
            "\u001b[2K   \u001b[90m━━━━━━━━━━━━━━━━━━━━━━━━━━━━━━━━━━━━━━━━\u001b[0m \u001b[32m43.8/43.8 kB\u001b[0m \u001b[31m4.1 MB/s\u001b[0m eta \u001b[36m0:00:00\u001b[0m\n",
            "\u001b[2K   \u001b[90m━━━━━━━━━━━━━━━━━━━━━━━━━━━━━━━━━━━━━━━━\u001b[0m \u001b[32m50.2/50.2 kB\u001b[0m \u001b[31m4.9 MB/s\u001b[0m eta \u001b[36m0:00:00\u001b[0m\n",
            "\u001b[2K   \u001b[90m━━━━━━━━━━━━━━━━━━━━━━━━━━━━━━━━━━━━━━━━\u001b[0m \u001b[32m216.5/216.5 kB\u001b[0m \u001b[31m18.5 MB/s\u001b[0m eta \u001b[36m0:00:00\u001b[0m\n",
            "\u001b[?25h"
          ]
        }
      ]
    },
    {
      "cell_type": "markdown",
      "source": [
        "# STEP 1: Imports and secure API key input"
      ],
      "metadata": {
        "id": "XvoFPl11cFhj"
      }
    },
    {
      "cell_type": "code",
      "source": [
        "import os\n",
        "import getpass\n",
        "from langgraph.graph import StateGraph, END\n",
        "from langchain_google_genai import ChatGoogleGenerativeAI\n",
        "from langchain_core.messages import HumanMessage\n"
      ],
      "metadata": {
        "id": "bQr4-jkYDO4F"
      },
      "execution_count": 2,
      "outputs": []
    },
    {
      "cell_type": "code",
      "source": [
        "#os and getpass: Used to securely ask for your API key (like your Google Gemini password).\n",
        "\n",
        "#StateGraph: Used to draw your flowchart or logic graph – it helps track steps.\n",
        "\n",
        "#ChatGoogleGenerativeAI: Lets you talk to Google's Gemini AI.\n",
        "\n",
        "#HumanMessage: Helps send messages to AI like “I have chest pain.”\n",
        "\n"
      ],
      "metadata": {
        "id": "AkajYSeoVoj7"
      },
      "execution_count": null,
      "outputs": []
    },
    {
      "cell_type": "markdown",
      "source": [
        "\n",
        "# Secure Gemini API Key input"
      ],
      "metadata": {
        "id": "W28u20SxcIiH"
      }
    },
    {
      "cell_type": "code",
      "source": [
        "\n",
        "\n",
        "os.environ['GOOGLE_API_KEY'] = getpass.getpass(\"Enter your Gemini API key: \")\n"
      ],
      "metadata": {
        "colab": {
          "base_uri": "https://localhost:8080/"
        },
        "id": "K4vwFat9GBi2",
        "outputId": "564fc89c-2081-47d6-9845-cb85bb8001eb"
      },
      "execution_count": 3,
      "outputs": [
        {
          "name": "stdout",
          "output_type": "stream",
          "text": [
            "Enter your Gemini API key: ··········\n"
          ]
        }
      ]
    },
    {
      "cell_type": "code",
      "source": [
        "#API key is like a password that gives your code permission to talk to Google's AI."
      ],
      "metadata": {
        "id": "LAaL9ZQsV8jt"
      },
      "execution_count": null,
      "outputs": []
    },
    {
      "cell_type": "markdown",
      "source": [
        "# STEP 2: Initialize Gemini 1.5 Flash"
      ],
      "metadata": {
        "id": "eusINPuVcLXp"
      }
    },
    {
      "cell_type": "code",
      "source": [
        "llm = ChatGoogleGenerativeAI(model = \"models/gemini-1.5-flash-latest\", temperature =0.2)\n"
      ],
      "metadata": {
        "id": "_fclmTDvGv56"
      },
      "execution_count": 4,
      "outputs": []
    },
    {
      "cell_type": "code",
      "source": [
        "\n",
        "#ChatGoogleGenerativeAI(...)\tThis is a constructor from LangChain (or similar), initializing a chat model using Gemini.\n",
        "#model=\"models/gemini-1.5-flash-latest\"\tSpecifies which Gemini model to use — in this case, Gemini 1.5 Flash (latest).\n",
        "#temperature=0.2\tControls creativity or randomness of the response. Lower = more deterministic, higher = more creative."
      ],
      "metadata": {
        "id": "-n6oIhI_W3FY"
      },
      "execution_count": null,
      "outputs": []
    },
    {
      "cell_type": "markdown",
      "source": [
        "# STEP 3: Node to ask user for symptom"
      ],
      "metadata": {
        "id": "o07zbkLWcOVW"
      }
    },
    {
      "cell_type": "code",
      "source": [
        "def get_symptom(state: dict) ->dict:\n",
        "  symptom = input(\"Welcome to XYZ hospital, Please enter your symptom\")\n",
        "  state[\"symptom\"] = symptom\n",
        "  return state"
      ],
      "metadata": {
        "id": "m-wzapfOIm2r"
      },
      "execution_count": 5,
      "outputs": []
    },
    {
      "cell_type": "markdown",
      "source": [
        "# STEP 4: Node to classify the symptom"
      ],
      "metadata": {
        "id": "0KIzyYPVcRVm"
      }
    },
    {
      "cell_type": "code",
      "source": [
        "def classify_symptom(state: dict) -> dict:\n",
        "  prompt = (\n",
        "      \"You are a helpful Medical Assistant, Classify the symptoms below into one of the categories \\n\"\n",
        "      \"-General\\n -Emergency \\n -mental health \\n\"\n",
        "      f\"Symptom : {state['symptom']} \\n\"\n",
        "      \"Respond only with one word : General, Emergency Or Mental Health\"\n",
        "      \"#Example : input : I have fever, Output : General\"\n",
        "  )\n",
        "  response = llm.invoke([HumanMessage(content=prompt)])\n",
        "  category = response.content.strip()\n",
        "  print(f\"LLM classifies the symptom as : {category}\")  #debug\n",
        "  state[\"category\"] = category\n",
        "  return state"
      ],
      "metadata": {
        "id": "iNsoj3HmJo3P"
      },
      "execution_count": 6,
      "outputs": []
    },
    {
      "cell_type": "code",
      "source": [
        "#  response = llm.invoke([HumanMessage(content=prompt)])\n",
        "#You're sending the prompt to Gemini using llm.invoke().\n",
        "#HumanMessage(content=prompt) is how you talk to Gemini using LangChain.\n",
        "#Gemini reads the message and sends back an answer like \"Emergency\".\n",
        "\n",
        "#  category = response.content.strip()\n",
        "#You take the text response from Gemini.\n",
        "#.strip() just removes extra spaces from the beginning or end.\n",
        "#For example: \" Emergency \" becomes \"Emergency\"."
      ],
      "metadata": {
        "id": "g6JjodtjXyo_"
      },
      "execution_count": null,
      "outputs": []
    },
    {
      "cell_type": "markdown",
      "source": [
        "# STEP 5: Router logic to route to the correct node\n"
      ],
      "metadata": {
        "id": "kESmxbnicWpS"
      }
    },
    {
      "cell_type": "code",
      "source": [
        "def symptom_router(state:dict) -> dict:\n",
        "  cat = state[\"category\"].lower()   #General, general, Mental mental\n",
        "  if \"general\" in cat:\n",
        "    return\"general\"\n",
        "  elif \"emergency\" in cat:\n",
        "    return\"emergency\"\n",
        "  elif \"mental\" in cat:\n",
        "    return\"mental_health\"\n",
        "  else:\n",
        "    return\"general\"\n"
      ],
      "metadata": {
        "id": "VG7Cv12LNCKs"
      },
      "execution_count": 7,
      "outputs": []
    },
    {
      "cell_type": "code",
      "source": [
        "#  cat = state[\"category\"].lower()\n",
        "#This gets the category from the state dictionary.\n",
        "#Example: \"Emergency\" or \"Mental Health\"\n",
        "#.lower() converts it to lowercase → \"emergency\", \"mental health\"\n",
        "#This helps in comparing without worrying about capital letters."
      ],
      "metadata": {
        "id": "FkrV05NgYpZt"
      },
      "execution_count": null,
      "outputs": []
    },
    {
      "cell_type": "markdown",
      "source": [
        "# STEP 6: Category-specific response nodes\n"
      ],
      "metadata": {
        "id": "cZuR4VGscake"
      }
    },
    {
      "cell_type": "code",
      "source": [
        "def general_node(state: dict) -> dict:\n",
        "  state[\"answer\"] = f\" '{state['symptom']}' : seems general : directing you to general ward for consulting a doctor\"\n",
        "  return state\n",
        "\n",
        "def emergency_node(state:dict) -> dict:\n",
        "  state[\"answer\"] =f\" ' {state['symptom']}': It is a Medical Emergency : seeking immediate help\"\n",
        "  return state\n",
        "\n",
        "def mental_health_node(state: dict) -> dict:\n",
        "  state[\"answer\"] = f\" '{state['symptom']}: seems like a medical health issue: talk to our counsellor\"\n",
        "  return state"
      ],
      "metadata": {
        "id": "4872jBvgOZpZ"
      },
      "execution_count": 8,
      "outputs": []
    },
    {
      "cell_type": "markdown",
      "source": [
        "# STEP 7: Build LangGraph\n"
      ],
      "metadata": {
        "id": "I1ek0SwzcehS"
      }
    },
    {
      "cell_type": "code",
      "source": [
        "builder = StateGraph(dict)\n",
        "\n",
        "#define the nodes\n",
        "builder.set_entry_point(\"get_symptom\")\n",
        "builder.add_node(\"get_symptom\", get_symptom)\n",
        "builder.add_node(\"classify\", classify_symptom)\n",
        "builder.add_node(\"general\", general_node)\n",
        "builder.add_node(\"emergency\", emergency_node)\n",
        "builder.add_node(\"mental_health\", mental_health_node)\n",
        "\n",
        "builder.add_edge(\"get_symptom\", \"classify\")\n",
        "builder.add_conditional_edges(\"classify\", symptom_router, {\n",
        "    \"general\": \"general\",\n",
        "    \"emergency\": \"emergency\",\n",
        "    \"mental_health\": \"mental_health\"\n",
        "})\n",
        "\n",
        "builder.add_edge(\"general\", END)\n",
        "builder.add_edge(\"emergency\", END)\n",
        "builder.add_edge(\"mental_health\", END)\n",
        "\n"
      ],
      "metadata": {
        "id": "ONqsWmQQPwiX",
        "colab": {
          "base_uri": "https://localhost:8080/"
        },
        "outputId": "67618788-dd3c-4581-b970-d10df861d0c9"
      },
      "execution_count": 9,
      "outputs": [
        {
          "output_type": "execute_result",
          "data": {
            "text/plain": [
              "<langgraph.graph.state.StateGraph at 0x7b537cb4b6d0>"
            ]
          },
          "metadata": {},
          "execution_count": 9
        }
      ]
    },
    {
      "cell_type": "code",
      "source": [
        "#Tells LangGraph:\n",
        "\n",
        "#Where to start (get_symptom)\n",
        "\n",
        "#What happens after that (classify, route, etc.)\n",
        "\n",
        "#Where the program ends (END)"
      ],
      "metadata": {
        "id": "J_zE9JHsZOE2"
      },
      "execution_count": null,
      "outputs": []
    },
    {
      "cell_type": "markdown",
      "source": [
        "# STEP 8: Compile and invoke the graph\n"
      ],
      "metadata": {
        "id": "GbAgCeZYci5k"
      }
    },
    {
      "cell_type": "code",
      "source": [
        "graph = builder.compile()\n"
      ],
      "metadata": {
        "id": "_KYSRIckTbdP"
      },
      "execution_count": 10,
      "outputs": []
    },
    {
      "cell_type": "code",
      "source": [
        "final_state = graph.invoke({})\n",
        "print(\"final Output \\n\")\n",
        "print(final_state[\"answer\"])"
      ],
      "metadata": {
        "colab": {
          "base_uri": "https://localhost:8080/"
        },
        "id": "28KXsYr-PRtA",
        "outputId": "586c8331-326e-4987-b9c4-a0a56f35f9ef"
      },
      "execution_count": 14,
      "outputs": [
        {
          "output_type": "stream",
          "name": "stdout",
          "text": [
            "Welcome to XYZ hospital, Please enter your symptomi have chest pain\n",
            "LLM classifies the symptom as : Emergency\n",
            "final Output \n",
            "\n",
            " ' i have chest pain': It is a Medical Emergency : seeking immediate help\n"
          ]
        }
      ]
    }
  ]
}